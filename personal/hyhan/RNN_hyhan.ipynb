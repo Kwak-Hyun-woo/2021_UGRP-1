{
 "cells": [
  {
   "cell_type": "markdown",
   "metadata": {},
   "source": [
    "# 데이터에 대한 이해와 전처리"
   ]
  },
  {
   "cell_type": "code",
   "execution_count": 1,
   "metadata": {},
   "outputs": [],
   "source": [
    "from tensorflow.keras.preprocessing.text import Tokenizer\n",
    "from tensorflow.keras.preprocessing.sequence import pad_sequences\n",
    "import numpy as np\n",
    "from tensorflow.keras.utils import to_categorical"
   ]
  },
  {
   "cell_type": "code",
   "execution_count": 2,
   "metadata": {},
   "outputs": [],
   "source": [
    "text=\"\"\"\n",
    "한현영은 한국에서 태어나 디지스트에 재학중인 대학생이다\\n\n",
    "우리 팀은 유지알피 1등을 할 것이다\\n\n",
    "한현영은 인천 출신이다\\n\n",
    "인공지능 대중화를 위한 프레임워크 샌디\\n\n",
    "인공지능은 정말 멋있다\\n\"\"\""
   ]
  },
  {
   "cell_type": "markdown",
   "metadata": {},
   "source": [
    "단어 집합을 생성하고 크기를 확인한다."
   ]
  },
  {
   "cell_type": "code",
   "execution_count": 3,
   "metadata": {},
   "outputs": [
    {
     "name": "stdout",
     "output_type": "stream",
     "text": [
      "단어 집합의 크기 : 23\n"
     ]
    }
   ],
   "source": [
    "t = Tokenizer()\n",
    "t.fit_on_texts([text])\n",
    "vocab_size = len(t.word_index) + 1\n",
    "# 케라스 토크나이저의 정수 인코딩은 인덱스가 1부터 시작하지만,\n",
    "# 케라스 원-핫 인코딩에서 배열의 인덱스가 0부터 시작하기 때문에\n",
    "# 배열의 크기를 실제 단어 집합의 크기보다 +1로 생성해야하므로 미리 +1 선언 \n",
    "print('단어 집합의 크기 : %d' % vocab_size)"
   ]
  },
  {
   "cell_type": "markdown",
   "metadata": {},
   "source": [
    "각 단어와 단어에 부여된 정수 index를 출력한다."
   ]
  },
  {
   "cell_type": "code",
   "execution_count": 4,
   "metadata": {},
   "outputs": [
    {
     "name": "stdout",
     "output_type": "stream",
     "text": [
      "{'한현영은': 1, '한국에서': 2, '태어나': 3, '디지스트에': 4, '재학중인': 5, '대학생이다': 6, '우리': 7, '팀은': 8, '유지알피': 9, '1등을': 10, '할': 11, '것이다': 12, '인천': 13, '출신이다': 14, '인공지능': 15, '대중화를': 16, '위한': 17, '프레임워크': 18, '샌디': 19, '인공지능은': 20, '정말': 21, '멋있다': 22}\n"
     ]
    }
   ],
   "source": [
    "print(t.word_index)"
   ]
  },
  {
   "cell_type": "markdown",
   "metadata": {},
   "source": [
    "훈련 데이터를 만들어본다."
   ]
  },
  {
   "cell_type": "code",
   "execution_count": 5,
   "metadata": {},
   "outputs": [
    {
     "name": "stdout",
     "output_type": "stream",
     "text": [
      "학습에 사용할 샘플의 개수: 18\n"
     ]
    }
   ],
   "source": [
    "sequences = list()\n",
    "for line in text.split('\\n'): # Wn을 기준으로 문장 토큰화\n",
    "    encoded = t.texts_to_sequences([line])[0]\n",
    "    for i in range(1, len(encoded)):\n",
    "        sequence = encoded[:i+1]\n",
    "        sequences.append(sequence)\n",
    "\n",
    "print('학습에 사용할 샘플의 개수: %d' % len(sequences))"
   ]
  },
  {
   "cell_type": "markdown",
   "metadata": {},
   "source": [
    "샘플의 개수는 총 11개이다. 전체 샘플을 출력해보자."
   ]
  },
  {
   "cell_type": "code",
   "execution_count": 6,
   "metadata": {},
   "outputs": [
    {
     "name": "stdout",
     "output_type": "stream",
     "text": [
      "[[1, 2], [1, 2, 3], [1, 2, 3, 4], [1, 2, 3, 4, 5], [1, 2, 3, 4, 5, 6], [7, 8], [7, 8, 9], [7, 8, 9, 10], [7, 8, 9, 10, 11], [7, 8, 9, 10, 11, 12], [1, 13], [1, 13, 14], [15, 16], [15, 16, 17], [15, 16, 17, 18], [15, 16, 17, 18, 19], [20, 21], [20, 21, 22]]\n"
     ]
    }
   ],
   "source": [
    "print(sequences)"
   ]
  },
  {
   "cell_type": "markdown",
   "metadata": {},
   "source": [
    "위의 데이터는 아직 레이블로 사용될 단어를 분리하지 않은 훈련 데이터이다. [2, 3]은 [경마장에, 있는]에 해당되며 [2, 3, 1]은 [경마장에, 있는, 말이]에 해당된다. 전체 훈련 데이터에 대해서 맨 우측에 있는 단어에 대해서만 레이블로 분리해야 한다.\n",
    "\n",
    "우선 전체 샘플에 대해서 길이를 일치시켜 준다. 가장 긴 샘플의 길이를 기준으로 한다. 현재 육안으로 봤을 때, 길이가 가장 긴 샘플은 [8, 1, 9, 10, 1, 11]이고 길이는 6이다. 이를 코드로는 다음과 같이 구할 수 있다."
   ]
  },
  {
   "cell_type": "code",
   "execution_count": 7,
   "metadata": {},
   "outputs": [
    {
     "name": "stdout",
     "output_type": "stream",
     "text": [
      "샘플의 최대 길이 : 6\n"
     ]
    }
   ],
   "source": [
    "max_len=max(len(l) for l in sequences) # 모든 샘플에서 길이가 가장 긴 샘플의 길이 출력\n",
    "print('샘플의 최대 길이 : {}'.format(max_len))"
   ]
  },
  {
   "cell_type": "markdown",
   "metadata": {},
   "source": [
    "전체 훈련 데이터에서 가장 긴 샘플의 길이가 6임을 확인했다. 따라서 전체 샘플의 길이를 6으로 padding한다."
   ]
  },
  {
   "cell_type": "code",
   "execution_count": 8,
   "metadata": {},
   "outputs": [],
   "source": [
    "sequences = pad_sequences(sequences, maxlen=max_len, padding='pre')"
   ]
  },
  {
   "cell_type": "markdown",
   "metadata": {},
   "source": [
    "pad_sequences()는 모든 샘플에 대해서 0을 사용하여 길이를 맞춰줍니다. maxlen의 값으로 6을 주면 모든 샘플의 길이를 6으로 맞춰주며, padding의 인자로 'pre'를 주면 길이가 6보다 짧은 샘플의 앞에 0으로 채웁니다. 전체 훈련 데이터를 출력해봅니다."
   ]
  },
  {
   "cell_type": "code",
   "execution_count": 9,
   "metadata": {},
   "outputs": [
    {
     "name": "stdout",
     "output_type": "stream",
     "text": [
      "[[ 0  0  0  0  1  2]\n",
      " [ 0  0  0  1  2  3]\n",
      " [ 0  0  1  2  3  4]\n",
      " [ 0  1  2  3  4  5]\n",
      " [ 1  2  3  4  5  6]\n",
      " [ 0  0  0  0  7  8]\n",
      " [ 0  0  0  7  8  9]\n",
      " [ 0  0  7  8  9 10]\n",
      " [ 0  7  8  9 10 11]\n",
      " [ 7  8  9 10 11 12]\n",
      " [ 0  0  0  0  1 13]\n",
      " [ 0  0  0  1 13 14]\n",
      " [ 0  0  0  0 15 16]\n",
      " [ 0  0  0 15 16 17]\n",
      " [ 0  0 15 16 17 18]\n",
      " [ 0 15 16 17 18 19]\n",
      " [ 0  0  0  0 20 21]\n",
      " [ 0  0  0 20 21 22]]\n"
     ]
    }
   ],
   "source": [
    "print(sequences)"
   ]
  },
  {
   "cell_type": "code",
   "execution_count": 10,
   "metadata": {},
   "outputs": [],
   "source": [
    "sequences = np.array(sequences)\n",
    "X = sequences[:,:-1]\n",
    "y = sequences[:,-1]\n",
    "# 리스트의 마지막 값을 제외하고 저장한 것은 X\n",
    "# 리스트의 마지막 값만 저장한 것은 y. 이는 레이블에 해당됨."
   ]
  },
  {
   "cell_type": "code",
   "execution_count": 11,
   "metadata": {},
   "outputs": [
    {
     "name": "stdout",
     "output_type": "stream",
     "text": [
      "[[ 0  0  0  0  1]\n",
      " [ 0  0  0  1  2]\n",
      " [ 0  0  1  2  3]\n",
      " [ 0  1  2  3  4]\n",
      " [ 1  2  3  4  5]\n",
      " [ 0  0  0  0  7]\n",
      " [ 0  0  0  7  8]\n",
      " [ 0  0  7  8  9]\n",
      " [ 0  7  8  9 10]\n",
      " [ 7  8  9 10 11]\n",
      " [ 0  0  0  0  1]\n",
      " [ 0  0  0  1 13]\n",
      " [ 0  0  0  0 15]\n",
      " [ 0  0  0 15 16]\n",
      " [ 0  0 15 16 17]\n",
      " [ 0 15 16 17 18]\n",
      " [ 0  0  0  0 20]\n",
      " [ 0  0  0 20 21]]\n"
     ]
    }
   ],
   "source": [
    "print(X)"
   ]
  },
  {
   "cell_type": "code",
   "execution_count": 12,
   "metadata": {},
   "outputs": [
    {
     "name": "stdout",
     "output_type": "stream",
     "text": [
      "[ 2  3  4  5  6  8  9 10 11 12 13 14 16 17 18 19 21 22]\n"
     ]
    }
   ],
   "source": [
    "print(y)"
   ]
  },
  {
   "cell_type": "markdown",
   "metadata": {},
   "source": [
    "레이블이 분리되었다. RNN 모델에 훈련 데이터를 훈련시키기 전에 레이블에 대해 One-Hot encoding을 수행한다."
   ]
  },
  {
   "cell_type": "code",
   "execution_count": 13,
   "metadata": {},
   "outputs": [],
   "source": [
    "y = to_categorical(y, num_classes=vocab_size)"
   ]
  },
  {
   "cell_type": "code",
   "execution_count": 14,
   "metadata": {},
   "outputs": [
    {
     "name": "stdout",
     "output_type": "stream",
     "text": [
      "[[0. 0. 1. 0. 0. 0. 0. 0. 0. 0. 0. 0. 0. 0. 0. 0. 0. 0. 0. 0. 0. 0. 0.]\n",
      " [0. 0. 0. 1. 0. 0. 0. 0. 0. 0. 0. 0. 0. 0. 0. 0. 0. 0. 0. 0. 0. 0. 0.]\n",
      " [0. 0. 0. 0. 1. 0. 0. 0. 0. 0. 0. 0. 0. 0. 0. 0. 0. 0. 0. 0. 0. 0. 0.]\n",
      " [0. 0. 0. 0. 0. 1. 0. 0. 0. 0. 0. 0. 0. 0. 0. 0. 0. 0. 0. 0. 0. 0. 0.]\n",
      " [0. 0. 0. 0. 0. 0. 1. 0. 0. 0. 0. 0. 0. 0. 0. 0. 0. 0. 0. 0. 0. 0. 0.]\n",
      " [0. 0. 0. 0. 0. 0. 0. 0. 1. 0. 0. 0. 0. 0. 0. 0. 0. 0. 0. 0. 0. 0. 0.]\n",
      " [0. 0. 0. 0. 0. 0. 0. 0. 0. 1. 0. 0. 0. 0. 0. 0. 0. 0. 0. 0. 0. 0. 0.]\n",
      " [0. 0. 0. 0. 0. 0. 0. 0. 0. 0. 1. 0. 0. 0. 0. 0. 0. 0. 0. 0. 0. 0. 0.]\n",
      " [0. 0. 0. 0. 0. 0. 0. 0. 0. 0. 0. 1. 0. 0. 0. 0. 0. 0. 0. 0. 0. 0. 0.]\n",
      " [0. 0. 0. 0. 0. 0. 0. 0. 0. 0. 0. 0. 1. 0. 0. 0. 0. 0. 0. 0. 0. 0. 0.]\n",
      " [0. 0. 0. 0. 0. 0. 0. 0. 0. 0. 0. 0. 0. 1. 0. 0. 0. 0. 0. 0. 0. 0. 0.]\n",
      " [0. 0. 0. 0. 0. 0. 0. 0. 0. 0. 0. 0. 0. 0. 1. 0. 0. 0. 0. 0. 0. 0. 0.]\n",
      " [0. 0. 0. 0. 0. 0. 0. 0. 0. 0. 0. 0. 0. 0. 0. 0. 1. 0. 0. 0. 0. 0. 0.]\n",
      " [0. 0. 0. 0. 0. 0. 0. 0. 0. 0. 0. 0. 0. 0. 0. 0. 0. 1. 0. 0. 0. 0. 0.]\n",
      " [0. 0. 0. 0. 0. 0. 0. 0. 0. 0. 0. 0. 0. 0. 0. 0. 0. 0. 1. 0. 0. 0. 0.]\n",
      " [0. 0. 0. 0. 0. 0. 0. 0. 0. 0. 0. 0. 0. 0. 0. 0. 0. 0. 0. 1. 0. 0. 0.]\n",
      " [0. 0. 0. 0. 0. 0. 0. 0. 0. 0. 0. 0. 0. 0. 0. 0. 0. 0. 0. 0. 0. 1. 0.]\n",
      " [0. 0. 0. 0. 0. 0. 0. 0. 0. 0. 0. 0. 0. 0. 0. 0. 0. 0. 0. 0. 0. 0. 1.]]\n"
     ]
    }
   ],
   "source": [
    "print(y)"
   ]
  },
  {
   "cell_type": "markdown",
   "metadata": {},
   "source": [
    "# 모델 설계"
   ]
  },
  {
   "cell_type": "code",
   "execution_count": 15,
   "metadata": {},
   "outputs": [],
   "source": [
    "from tensorflow.keras.models import Sequential\n",
    "from tensorflow.keras.layers import Embedding, Dense, SimpleRNN"
   ]
  },
  {
   "cell_type": "code",
   "execution_count": 16,
   "metadata": {},
   "outputs": [
    {
     "name": "stdout",
     "output_type": "stream",
     "text": [
      "Epoch 1/200\n",
      "1/1 - 0s - loss: 3.1323 - accuracy: 0.0000e+00\n",
      "Epoch 2/200\n",
      "1/1 - 0s - loss: 3.1244 - accuracy: 0.0556\n",
      "Epoch 3/200\n",
      "1/1 - 0s - loss: 3.1165 - accuracy: 0.1111\n",
      "Epoch 4/200\n",
      "1/1 - 0s - loss: 3.1088 - accuracy: 0.1111\n",
      "Epoch 5/200\n",
      "1/1 - 0s - loss: 3.1011 - accuracy: 0.1111\n",
      "Epoch 6/200\n",
      "1/1 - 0s - loss: 3.0933 - accuracy: 0.1111\n",
      "Epoch 7/200\n",
      "1/1 - 0s - loss: 3.0856 - accuracy: 0.1111\n",
      "Epoch 8/200\n",
      "1/1 - 0s - loss: 3.0777 - accuracy: 0.1111\n",
      "Epoch 9/200\n",
      "1/1 - 0s - loss: 3.0697 - accuracy: 0.1111\n",
      "Epoch 10/200\n",
      "1/1 - 0s - loss: 3.0615 - accuracy: 0.1111\n",
      "Epoch 11/200\n",
      "1/1 - 0s - loss: 3.0531 - accuracy: 0.1111\n",
      "Epoch 12/200\n",
      "1/1 - 0s - loss: 3.0444 - accuracy: 0.1111\n",
      "Epoch 13/200\n",
      "1/1 - 0s - loss: 3.0355 - accuracy: 0.1111\n",
      "Epoch 14/200\n",
      "1/1 - 0s - loss: 3.0263 - accuracy: 0.1111\n",
      "Epoch 15/200\n",
      "1/1 - 0s - loss: 3.0167 - accuracy: 0.1111\n",
      "Epoch 16/200\n",
      "1/1 - 0s - loss: 3.0068 - accuracy: 0.1667\n",
      "Epoch 17/200\n",
      "1/1 - 0s - loss: 2.9965 - accuracy: 0.1667\n",
      "Epoch 18/200\n",
      "1/1 - 0s - loss: 2.9857 - accuracy: 0.1667\n",
      "Epoch 19/200\n",
      "1/1 - 0s - loss: 2.9746 - accuracy: 0.1667\n",
      "Epoch 20/200\n",
      "1/1 - 0s - loss: 2.9629 - accuracy: 0.1667\n",
      "Epoch 21/200\n",
      "1/1 - 0s - loss: 2.9508 - accuracy: 0.1667\n",
      "Epoch 22/200\n",
      "1/1 - 0s - loss: 2.9381 - accuracy: 0.1667\n",
      "Epoch 23/200\n",
      "1/1 - 0s - loss: 2.9249 - accuracy: 0.1667\n",
      "Epoch 24/200\n",
      "1/1 - 0s - loss: 2.9111 - accuracy: 0.1667\n",
      "Epoch 25/200\n",
      "1/1 - 0s - loss: 2.8968 - accuracy: 0.2778\n",
      "Epoch 26/200\n",
      "1/1 - 0s - loss: 2.8818 - accuracy: 0.2778\n",
      "Epoch 27/200\n",
      "1/1 - 0s - loss: 2.8662 - accuracy: 0.3333\n",
      "Epoch 28/200\n",
      "1/1 - 0s - loss: 2.8500 - accuracy: 0.3333\n",
      "Epoch 29/200\n",
      "1/1 - 0s - loss: 2.8331 - accuracy: 0.2778\n",
      "Epoch 30/200\n",
      "1/1 - 0s - loss: 2.8156 - accuracy: 0.2778\n",
      "Epoch 31/200\n",
      "1/1 - 0s - loss: 2.7974 - accuracy: 0.2778\n",
      "Epoch 32/200\n",
      "1/1 - 0s - loss: 2.7785 - accuracy: 0.3333\n",
      "Epoch 33/200\n",
      "1/1 - 0s - loss: 2.7590 - accuracy: 0.3889\n",
      "Epoch 34/200\n",
      "1/1 - 0s - loss: 2.7389 - accuracy: 0.3889\n",
      "Epoch 35/200\n",
      "1/1 - 0s - loss: 2.7180 - accuracy: 0.3889\n",
      "Epoch 36/200\n",
      "1/1 - 0s - loss: 2.6965 - accuracy: 0.3889\n",
      "Epoch 37/200\n",
      "1/1 - 0s - loss: 2.6744 - accuracy: 0.3889\n",
      "Epoch 38/200\n",
      "1/1 - 0s - loss: 2.6517 - accuracy: 0.3889\n",
      "Epoch 39/200\n",
      "1/1 - 0s - loss: 2.6283 - accuracy: 0.4444\n",
      "Epoch 40/200\n",
      "1/1 - 0s - loss: 2.6043 - accuracy: 0.4444\n",
      "Epoch 41/200\n",
      "1/1 - 0s - loss: 2.5797 - accuracy: 0.4444\n",
      "Epoch 42/200\n",
      "1/1 - 0s - loss: 2.5545 - accuracy: 0.4444\n",
      "Epoch 43/200\n",
      "1/1 - 0s - loss: 2.5288 - accuracy: 0.4444\n",
      "Epoch 44/200\n",
      "1/1 - 0s - loss: 2.5026 - accuracy: 0.4444\n",
      "Epoch 45/200\n",
      "1/1 - 0s - loss: 2.4759 - accuracy: 0.5000\n",
      "Epoch 46/200\n",
      "1/1 - 0s - loss: 2.4488 - accuracy: 0.5000\n",
      "Epoch 47/200\n",
      "1/1 - 0s - loss: 2.4214 - accuracy: 0.5000\n",
      "Epoch 48/200\n",
      "1/1 - 0s - loss: 2.3936 - accuracy: 0.5000\n",
      "Epoch 49/200\n",
      "1/1 - 0s - loss: 2.3655 - accuracy: 0.5000\n",
      "Epoch 50/200\n",
      "1/1 - 0s - loss: 2.3373 - accuracy: 0.5000\n",
      "Epoch 51/200\n",
      "1/1 - 0s - loss: 2.3089 - accuracy: 0.5000\n",
      "Epoch 52/200\n",
      "1/1 - 0s - loss: 2.2804 - accuracy: 0.5556\n",
      "Epoch 53/200\n",
      "1/1 - 0s - loss: 2.2519 - accuracy: 0.5556\n",
      "Epoch 54/200\n",
      "1/1 - 0s - loss: 2.2235 - accuracy: 0.5556\n",
      "Epoch 55/200\n",
      "1/1 - 0s - loss: 2.1952 - accuracy: 0.5556\n",
      "Epoch 56/200\n",
      "1/1 - 0s - loss: 2.1670 - accuracy: 0.6111\n",
      "Epoch 57/200\n",
      "1/1 - 0s - loss: 2.1389 - accuracy: 0.6111\n",
      "Epoch 58/200\n",
      "1/1 - 0s - loss: 2.1112 - accuracy: 0.6111\n",
      "Epoch 59/200\n",
      "1/1 - 0s - loss: 2.0837 - accuracy: 0.6111\n",
      "Epoch 60/200\n",
      "1/1 - 0s - loss: 2.0565 - accuracy: 0.6111\n",
      "Epoch 61/200\n",
      "1/1 - 0s - loss: 2.0297 - accuracy: 0.6111\n",
      "Epoch 62/200\n",
      "1/1 - 0s - loss: 2.0032 - accuracy: 0.6111\n",
      "Epoch 63/200\n",
      "1/1 - 0s - loss: 1.9771 - accuracy: 0.6111\n",
      "Epoch 64/200\n",
      "1/1 - 0s - loss: 1.9515 - accuracy: 0.6111\n",
      "Epoch 65/200\n",
      "1/1 - 0s - loss: 1.9262 - accuracy: 0.6111\n",
      "Epoch 66/200\n",
      "1/1 - 0s - loss: 1.9012 - accuracy: 0.6111\n",
      "Epoch 67/200\n",
      "1/1 - 0s - loss: 1.8767 - accuracy: 0.6111\n",
      "Epoch 68/200\n",
      "1/1 - 0s - loss: 1.8525 - accuracy: 0.6111\n",
      "Epoch 69/200\n",
      "1/1 - 0s - loss: 1.8287 - accuracy: 0.6111\n",
      "Epoch 70/200\n",
      "1/1 - 0s - loss: 1.8052 - accuracy: 0.6111\n",
      "Epoch 71/200\n",
      "1/1 - 0s - loss: 1.7820 - accuracy: 0.6111\n",
      "Epoch 72/200\n",
      "1/1 - 0s - loss: 1.7591 - accuracy: 0.6667\n",
      "Epoch 73/200\n",
      "1/1 - 0s - loss: 1.7365 - accuracy: 0.6667\n",
      "Epoch 74/200\n",
      "1/1 - 0s - loss: 1.7142 - accuracy: 0.6667\n",
      "Epoch 75/200\n",
      "1/1 - 0s - loss: 1.6922 - accuracy: 0.6667\n",
      "Epoch 76/200\n",
      "1/1 - 0s - loss: 1.6705 - accuracy: 0.6667\n",
      "Epoch 77/200\n",
      "1/1 - 0s - loss: 1.6491 - accuracy: 0.7222\n",
      "Epoch 78/200\n",
      "1/1 - 0s - loss: 1.6280 - accuracy: 0.7222\n",
      "Epoch 79/200\n",
      "1/1 - 0s - loss: 1.6071 - accuracy: 0.7222\n",
      "Epoch 80/200\n",
      "1/1 - 0s - loss: 1.5866 - accuracy: 0.7222\n",
      "Epoch 81/200\n",
      "1/1 - 0s - loss: 1.5663 - accuracy: 0.7778\n",
      "Epoch 82/200\n",
      "1/1 - 0s - loss: 1.5462 - accuracy: 0.7778\n",
      "Epoch 83/200\n",
      "1/1 - 0s - loss: 1.5265 - accuracy: 0.7778\n",
      "Epoch 84/200\n",
      "1/1 - 0s - loss: 1.5070 - accuracy: 0.7778\n",
      "Epoch 85/200\n",
      "1/1 - 0s - loss: 1.4877 - accuracy: 0.7778\n",
      "Epoch 86/200\n",
      "1/1 - 0s - loss: 1.4688 - accuracy: 0.7778\n",
      "Epoch 87/200\n",
      "1/1 - 0s - loss: 1.4501 - accuracy: 0.8333\n",
      "Epoch 88/200\n",
      "1/1 - 0s - loss: 1.4316 - accuracy: 0.8333\n",
      "Epoch 89/200\n",
      "1/1 - 0s - loss: 1.4134 - accuracy: 0.8333\n",
      "Epoch 90/200\n",
      "1/1 - 0s - loss: 1.3954 - accuracy: 0.8333\n",
      "Epoch 91/200\n",
      "1/1 - 0s - loss: 1.3777 - accuracy: 0.8333\n",
      "Epoch 92/200\n",
      "1/1 - 0s - loss: 1.3603 - accuracy: 0.8333\n",
      "Epoch 93/200\n",
      "1/1 - 0s - loss: 1.3430 - accuracy: 0.8333\n",
      "Epoch 94/200\n",
      "1/1 - 0s - loss: 1.3261 - accuracy: 0.8333\n",
      "Epoch 95/200\n",
      "1/1 - 0s - loss: 1.3093 - accuracy: 0.8333\n",
      "Epoch 96/200\n",
      "1/1 - 0s - loss: 1.2928 - accuracy: 0.8889\n",
      "Epoch 97/200\n",
      "1/1 - 0s - loss: 1.2765 - accuracy: 0.8889\n",
      "Epoch 98/200\n",
      "1/1 - 0s - loss: 1.2605 - accuracy: 0.8889\n",
      "Epoch 99/200\n",
      "1/1 - 0s - loss: 1.2447 - accuracy: 0.8889\n",
      "Epoch 100/200\n",
      "1/1 - 0s - loss: 1.2291 - accuracy: 0.8889\n",
      "Epoch 101/200\n",
      "1/1 - 0s - loss: 1.2137 - accuracy: 0.8889\n",
      "Epoch 102/200\n",
      "1/1 - 0s - loss: 1.1985 - accuracy: 0.8889\n",
      "Epoch 103/200\n",
      "1/1 - 0s - loss: 1.1836 - accuracy: 0.8889\n",
      "Epoch 104/200\n",
      "1/1 - 0s - loss: 1.1688 - accuracy: 0.8889\n",
      "Epoch 105/200\n",
      "1/1 - 0s - loss: 1.1543 - accuracy: 0.8889\n",
      "Epoch 106/200\n",
      "1/1 - 0s - loss: 1.1399 - accuracy: 0.8889\n",
      "Epoch 107/200\n",
      "1/1 - 0s - loss: 1.1257 - accuracy: 0.8889\n",
      "Epoch 108/200\n",
      "1/1 - 0s - loss: 1.1117 - accuracy: 0.8889\n",
      "Epoch 109/200\n",
      "1/1 - 0s - loss: 1.0979 - accuracy: 0.8889\n",
      "Epoch 110/200\n",
      "1/1 - 0s - loss: 1.0843 - accuracy: 0.8889\n",
      "Epoch 111/200\n",
      "1/1 - 0s - loss: 1.0708 - accuracy: 0.8889\n",
      "Epoch 112/200\n",
      "1/1 - 0s - loss: 1.0575 - accuracy: 0.8889\n",
      "Epoch 113/200\n",
      "1/1 - 0s - loss: 1.0444 - accuracy: 0.8889\n",
      "Epoch 114/200\n",
      "1/1 - 0s - loss: 1.0314 - accuracy: 0.8889\n",
      "Epoch 115/200\n",
      "1/1 - 0s - loss: 1.0186 - accuracy: 0.9444\n",
      "Epoch 116/200\n",
      "1/1 - 0s - loss: 1.0059 - accuracy: 0.9444\n",
      "Epoch 117/200\n",
      "1/1 - 0s - loss: 0.9934 - accuracy: 0.9444\n",
      "Epoch 118/200\n",
      "1/1 - 0s - loss: 0.9811 - accuracy: 0.9444\n",
      "Epoch 119/200\n",
      "1/1 - 0s - loss: 0.9689 - accuracy: 0.9444\n",
      "Epoch 120/200\n",
      "1/1 - 0s - loss: 0.9568 - accuracy: 0.9444\n",
      "Epoch 121/200\n",
      "1/1 - 0s - loss: 0.9449 - accuracy: 0.9444\n",
      "Epoch 122/200\n",
      "1/1 - 0s - loss: 0.9331 - accuracy: 0.9444\n",
      "Epoch 123/200\n",
      "1/1 - 0s - loss: 0.9215 - accuracy: 0.9444\n",
      "Epoch 124/200\n",
      "1/1 - 0s - loss: 0.9100 - accuracy: 0.9444\n",
      "Epoch 125/200\n",
      "1/1 - 0s - loss: 0.8986 - accuracy: 0.9444\n",
      "Epoch 126/200\n",
      "1/1 - 0s - loss: 0.8874 - accuracy: 0.9444\n",
      "Epoch 127/200\n",
      "1/1 - 0s - loss: 0.8763 - accuracy: 0.9444\n",
      "Epoch 128/200\n",
      "1/1 - 0s - loss: 0.8653 - accuracy: 0.9444\n",
      "Epoch 129/200\n",
      "1/1 - 0s - loss: 0.8545 - accuracy: 0.9444\n",
      "Epoch 130/200\n",
      "1/1 - 0s - loss: 0.8437 - accuracy: 0.9444\n",
      "Epoch 131/200\n",
      "1/1 - 0s - loss: 0.8331 - accuracy: 0.9444\n",
      "Epoch 132/200\n",
      "1/1 - 0s - loss: 0.8227 - accuracy: 0.9444\n",
      "Epoch 133/200\n",
      "1/1 - 0s - loss: 0.8123 - accuracy: 0.9444\n",
      "Epoch 134/200\n",
      "1/1 - 0s - loss: 0.8021 - accuracy: 0.9444\n",
      "Epoch 135/200\n",
      "1/1 - 0s - loss: 0.7919 - accuracy: 0.9444\n",
      "Epoch 136/200\n",
      "1/1 - 0s - loss: 0.7819 - accuracy: 0.9444\n",
      "Epoch 137/200\n",
      "1/1 - 0s - loss: 0.7721 - accuracy: 0.9444\n",
      "Epoch 138/200\n",
      "1/1 - 0s - loss: 0.7623 - accuracy: 0.9444\n",
      "Epoch 139/200\n",
      "1/1 - 0s - loss: 0.7527 - accuracy: 0.9444\n",
      "Epoch 140/200\n",
      "1/1 - 0s - loss: 0.7431 - accuracy: 0.9444\n",
      "Epoch 141/200\n",
      "1/1 - 0s - loss: 0.7337 - accuracy: 0.9444\n",
      "Epoch 142/200\n",
      "1/1 - 0s - loss: 0.7244 - accuracy: 0.9444\n",
      "Epoch 143/200\n",
      "1/1 - 0s - loss: 0.7153 - accuracy: 0.9444\n",
      "Epoch 144/200\n",
      "1/1 - 0s - loss: 0.7062 - accuracy: 0.9444\n",
      "Epoch 145/200\n",
      "1/1 - 0s - loss: 0.6973 - accuracy: 0.9444\n",
      "Epoch 146/200\n",
      "1/1 - 0s - loss: 0.6884 - accuracy: 0.9444\n"
     ]
    },
    {
     "name": "stdout",
     "output_type": "stream",
     "text": [
      "Epoch 147/200\n",
      "1/1 - 0s - loss: 0.6797 - accuracy: 0.9444\n",
      "Epoch 148/200\n",
      "1/1 - 0s - loss: 0.6711 - accuracy: 0.9444\n",
      "Epoch 149/200\n",
      "1/1 - 0s - loss: 0.6626 - accuracy: 0.9444\n",
      "Epoch 150/200\n",
      "1/1 - 0s - loss: 0.6542 - accuracy: 0.9444\n",
      "Epoch 151/200\n",
      "1/1 - 0s - loss: 0.6460 - accuracy: 0.9444\n",
      "Epoch 152/200\n",
      "1/1 - 0s - loss: 0.6378 - accuracy: 0.9444\n",
      "Epoch 153/200\n",
      "1/1 - 0s - loss: 0.6298 - accuracy: 0.9444\n",
      "Epoch 154/200\n",
      "1/1 - 0s - loss: 0.6218 - accuracy: 0.9444\n",
      "Epoch 155/200\n",
      "1/1 - 0s - loss: 0.6140 - accuracy: 0.9444\n",
      "Epoch 156/200\n",
      "1/1 - 0s - loss: 0.6063 - accuracy: 0.9444\n",
      "Epoch 157/200\n",
      "1/1 - 0s - loss: 0.5987 - accuracy: 0.9444\n",
      "Epoch 158/200\n",
      "1/1 - 0s - loss: 0.5912 - accuracy: 0.9444\n",
      "Epoch 159/200\n",
      "1/1 - 0s - loss: 0.5839 - accuracy: 0.9444\n",
      "Epoch 160/200\n",
      "1/1 - 0s - loss: 0.5766 - accuracy: 0.9444\n",
      "Epoch 161/200\n",
      "1/1 - 0s - loss: 0.5694 - accuracy: 0.9444\n",
      "Epoch 162/200\n",
      "1/1 - 0s - loss: 0.5624 - accuracy: 0.9444\n",
      "Epoch 163/200\n",
      "1/1 - 0s - loss: 0.5554 - accuracy: 0.9444\n",
      "Epoch 164/200\n",
      "1/1 - 0s - loss: 0.5486 - accuracy: 0.9444\n",
      "Epoch 165/200\n",
      "1/1 - 0s - loss: 0.5418 - accuracy: 0.9444\n",
      "Epoch 166/200\n",
      "1/1 - 0s - loss: 0.5352 - accuracy: 0.9444\n",
      "Epoch 167/200\n",
      "1/1 - 0s - loss: 0.5286 - accuracy: 0.9444\n",
      "Epoch 168/200\n",
      "1/1 - 0s - loss: 0.5222 - accuracy: 0.9444\n",
      "Epoch 169/200\n",
      "1/1 - 0s - loss: 0.5159 - accuracy: 0.9444\n",
      "Epoch 170/200\n",
      "1/1 - 0s - loss: 0.5096 - accuracy: 0.9444\n",
      "Epoch 171/200\n",
      "1/1 - 0s - loss: 0.5035 - accuracy: 0.9444\n",
      "Epoch 172/200\n",
      "1/1 - 0s - loss: 0.4974 - accuracy: 0.9444\n",
      "Epoch 173/200\n",
      "1/1 - 0s - loss: 0.4914 - accuracy: 0.9444\n",
      "Epoch 174/200\n",
      "1/1 - 0s - loss: 0.4856 - accuracy: 0.9444\n",
      "Epoch 175/200\n",
      "1/1 - 0s - loss: 0.4798 - accuracy: 0.9444\n",
      "Epoch 176/200\n",
      "1/1 - 0s - loss: 0.4741 - accuracy: 0.9444\n",
      "Epoch 177/200\n",
      "1/1 - 0s - loss: 0.4685 - accuracy: 0.9444\n",
      "Epoch 178/200\n",
      "1/1 - 0s - loss: 0.4630 - accuracy: 0.9444\n",
      "Epoch 179/200\n",
      "1/1 - 0s - loss: 0.4576 - accuracy: 0.9444\n",
      "Epoch 180/200\n",
      "1/1 - 0s - loss: 0.4523 - accuracy: 0.9444\n",
      "Epoch 181/200\n",
      "1/1 - 0s - loss: 0.4470 - accuracy: 0.9444\n",
      "Epoch 182/200\n",
      "1/1 - 0s - loss: 0.4419 - accuracy: 0.9444\n",
      "Epoch 183/200\n",
      "1/1 - 0s - loss: 0.4368 - accuracy: 0.9444\n",
      "Epoch 184/200\n",
      "1/1 - 0s - loss: 0.4318 - accuracy: 0.9444\n",
      "Epoch 185/200\n",
      "1/1 - 0s - loss: 0.4268 - accuracy: 0.9444\n",
      "Epoch 186/200\n",
      "1/1 - 0s - loss: 0.4220 - accuracy: 0.9444\n",
      "Epoch 187/200\n",
      "1/1 - 0s - loss: 0.4172 - accuracy: 0.9444\n",
      "Epoch 188/200\n",
      "1/1 - 0s - loss: 0.4125 - accuracy: 0.9444\n",
      "Epoch 189/200\n",
      "1/1 - 0s - loss: 0.4079 - accuracy: 0.9444\n",
      "Epoch 190/200\n",
      "1/1 - 0s - loss: 0.4033 - accuracy: 0.9444\n",
      "Epoch 191/200\n",
      "1/1 - 0s - loss: 0.3988 - accuracy: 0.9444\n",
      "Epoch 192/200\n",
      "1/1 - 0s - loss: 0.3944 - accuracy: 0.9444\n",
      "Epoch 193/200\n",
      "1/1 - 0s - loss: 0.3901 - accuracy: 0.9444\n",
      "Epoch 194/200\n",
      "1/1 - 0s - loss: 0.3858 - accuracy: 0.9444\n",
      "Epoch 195/200\n",
      "1/1 - 0s - loss: 0.3816 - accuracy: 0.9444\n",
      "Epoch 196/200\n",
      "1/1 - 0s - loss: 0.3774 - accuracy: 0.9444\n",
      "Epoch 197/200\n",
      "1/1 - 0s - loss: 0.3733 - accuracy: 0.9444\n",
      "Epoch 198/200\n",
      "1/1 - 0s - loss: 0.3693 - accuracy: 0.9444\n",
      "Epoch 199/200\n",
      "1/1 - 0s - loss: 0.3653 - accuracy: 0.9444\n",
      "Epoch 200/200\n",
      "1/1 - 0s - loss: 0.3614 - accuracy: 0.9444\n"
     ]
    },
    {
     "data": {
      "text/plain": [
       "<tensorflow.python.keras.callbacks.History at 0x7f47401adf28>"
      ]
     },
     "execution_count": 16,
     "metadata": {},
     "output_type": "execute_result"
    }
   ],
   "source": [
    "model = Sequential()\n",
    "model.add(Embedding(vocab_size, 10, input_length=max_len-1)) # 레이블을 분리하였으므로 이제 X의 길이는 5\n",
    "model.add(SimpleRNN(32))\n",
    "model.add(Dense(vocab_size, activation='softmax'))\n",
    "model.compile(loss='categorical_crossentropy', optimizer='adam', metrics=['accuracy'])\n",
    "model.fit(X, y, epochs=200, verbose=2)"
   ]
  },
  {
   "cell_type": "markdown",
   "metadata": {},
   "source": [
    "각 단어의 embedding vector는 10차원을 가지고, 32의 은닉 상태 크기를 가지는 RNN을 사용한다."
   ]
  },
  {
   "cell_type": "code",
   "execution_count": 17,
   "metadata": {},
   "outputs": [],
   "source": [
    "def sentence_generation(model, t, current_word, n): # 모델, 토크나이저, 현재 단어, 반복할 횟수\n",
    "    init_word = current_word # 처음 들어온 단어도 마지막에 같이 출력하기위해 저장\n",
    "    sentence = ''\n",
    "    for _ in range(n): # n번 반복\n",
    "        encoded = t.texts_to_sequences([current_word])[0] # 현재 단어에 대한 정수 인코딩\n",
    "        encoded = pad_sequences([encoded], maxlen=5, padding='pre') # 데이터에 대한 패딩\n",
    "        result = model.predict_classes(encoded, verbose=0)\n",
    "    # 입력한 X(현재 단어)에 대해서 Y를 예측하고 Y(예측한 단어)를 result에 저장.\n",
    "        for word, index in t.word_index.items(): \n",
    "            if index == result: # 만약 예측한 단어와 인덱스와 동일한 단어가 있다면\n",
    "                break # 해당 단어가 예측 단어이므로 break\n",
    "        current_word = current_word + ' '  + word # 현재 단어 + ' ' + 예측 단어를 현재 단어로 변경\n",
    "        sentence = sentence + ' ' + word # 예측 단어를 문장에 저장\n",
    "    # for문이므로 이 행동을 다시 반복\n",
    "    sentence = init_word + sentence\n",
    "    return sentence"
   ]
  },
  {
   "cell_type": "code",
   "execution_count": 18,
   "metadata": {},
   "outputs": [
    {
     "name": "stdout",
     "output_type": "stream",
     "text": [
      "WARNING:tensorflow:From <ipython-input-17-120ee9dd07f9>:7: Sequential.predict_classes (from tensorflow.python.keras.engine.sequential) is deprecated and will be removed after 2021-01-01.\n",
      "Instructions for updating:\n",
      "Please use instead:* `np.argmax(model.predict(x), axis=-1)`,   if your model does multi-class classification   (e.g. if it uses a `softmax` last-layer activation).* `(model.predict(x) > 0.5).astype(\"int32\")`,   if your model does binary classification   (e.g. if it uses a `sigmoid` last-layer activation).\n",
      "우리 팀은 유지알피 1등을 할 것이다 것이다\n"
     ]
    }
   ],
   "source": [
    "print(sentence_generation(model, t, '우리', 6))"
   ]
  },
  {
   "cell_type": "code",
   "execution_count": 19,
   "metadata": {},
   "outputs": [
    {
     "name": "stdout",
     "output_type": "stream",
     "text": [
      "한현영은\n",
      "한현영은 인천\n",
      "한현영은 인천 출신이다\n",
      "한현영은 인천 출신이다 디지스트에\n",
      "한현영은 인천 출신이다 디지스트에 재학중인\n",
      "한현영은 인천 출신이다 디지스트에 재학중인 대학생이다\n",
      "한현영은 인천 출신이다 디지스트에 재학중인 대학생이다 대학생이다\n",
      "한현영은 인천 출신이다 디지스트에 재학중인 대학생이다 대학생이다 것이다\n",
      "한현영은 인천 출신이다 디지스트에 재학중인 대학생이다 대학생이다 것이다 것이다\n",
      "한현영은 인천 출신이다 디지스트에 재학중인 대학생이다 대학생이다 것이다 것이다 대학생이다\n"
     ]
    }
   ],
   "source": [
    "for i in range(10):\n",
    "    print(sentence_generation(model, t, '한현영은', i))"
   ]
  },
  {
   "cell_type": "code",
   "execution_count": 20,
   "metadata": {},
   "outputs": [
    {
     "name": "stdout",
     "output_type": "stream",
     "text": [
      "인공지능은 정말 멋있다 디지스트에 재학중인\n"
     ]
    }
   ],
   "source": [
    "print(sentence_generation(model, t, '인공지능은', 4))"
   ]
  }
 ],
 "metadata": {
  "kernelspec": {
   "display_name": "keras",
   "language": "python",
   "name": "keras"
  },
  "language_info": {
   "codemirror_mode": {
    "name": "ipython",
    "version": 3
   },
   "file_extension": ".py",
   "mimetype": "text/x-python",
   "name": "python",
   "nbconvert_exporter": "python",
   "pygments_lexer": "ipython3",
   "version": "3.6.12"
  }
 },
 "nbformat": 4,
 "nbformat_minor": 4
}
